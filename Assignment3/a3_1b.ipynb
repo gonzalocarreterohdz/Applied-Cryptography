{
 "cells": [
  {
   "cell_type": "markdown",
   "id": "ef015824-d0fb-49d2-84eb-b706ba1be75d",
   "metadata": {},
   "source": [
    "# Assignment 3 Question 1\n",
    "\n",
    "### CO 487/687 Applied Cryptography Fall 2023 \n",
    "\n",
    "This Jupyter notebook contains Python 3 code for Assignment 3 Question 1 on \"Symemtric Encryption in Python\".\n",
    "\n",
    "### Documentation\n",
    "\n",
    "- [Python cryptography library](https://cryptography.io/en/latest/)"
   ]
  },
  {
   "cell_type": "markdown",
   "id": "2948cd7d-5ce4-4c02-a6cf-e61c5bf8a673",
   "metadata": {},
   "source": [
    "The following code imports all the required functions for the assignment."
   ]
  },
  {
   "cell_type": "code",
   "execution_count": 32,
   "id": "9b7a43a4-5b20-4257-9df6-06784f4e604c",
   "metadata": {},
   "outputs": [],
   "source": [
    "import base64\n",
    "import getpass\n",
    "import json\n",
    "import os\n",
    "import sys\n",
    "from cryptography.hazmat.primitives import hashes, hmac\n",
    "from cryptography.hazmat.primitives.kdf.pbkdf2 import PBKDF2HMAC\n",
    "from cryptography.hazmat.primitives.ciphers import Cipher, algorithms, modes    \n",
    "from cryptography.hazmat.primitives import padding\n",
    "from cryptography.hazmat.primitives import constant_time"
   ]
  },
  {
   "cell_type": "markdown",
   "id": "2006d7f1-e4a6-4fec-acf8-4aa4edc0786c",
   "metadata": {},
   "source": [
    "These two functions convert a byte array into a printable string and back, which might be helpful to you since cryptographic routines often work with byte arrays."
   ]
  },
  {
   "cell_type": "code",
   "execution_count": 33,
   "id": "a4219e0e-2bf4-4488-82f2-43a6fcf6374c",
   "metadata": {},
   "outputs": [],
   "source": [
    "def bytes2string(b):\n",
    "    return base64.urlsafe_b64encode(b).decode('utf-8')\n",
    "\n",
    "def string2bytes(s):\n",
    "    return base64.urlsafe_b64decode(s.encode('utf-8'))"
   ]
  },
  {
   "cell_type": "markdown",
   "id": "a4774352-9e99-4800-b698-c684f39ec060",
   "metadata": {},
   "source": [
    "Implement the main encryption function below. Your function will take as input a string, and will output a string or dictionary containing all the values needed to decrypt (other than the password, of course). The code below will prompt the user to enter their password during encryption."
   ]
  },
  {
   "cell_type": "code",
   "execution_count": 34,
   "id": "071c13d4-2adc-4038-b6a6-4e4425fa750b",
   "metadata": {},
   "outputs": [],
   "source": [
    "def encrypt(message):\n",
    "    \n",
    "    # encode the string as a byte string, since cryptographic functions usually work on bytes\n",
    "    plaintext = message.encode('utf-8')\n",
    "\n",
    "    # Use getpass to prompt the user for a password\n",
    "    password = getpass.getpass(\"Enter password:\")\n",
    "    password2 = getpass.getpass(\"Enter password again:\")\n",
    "\n",
    "    # Do a quick check to make sure that the password is the same!\n",
    "    if password != password2:\n",
    "        sys.stderr.write(\"Passwords did not match\")\n",
    "        sys.exit()\n",
    "\n",
    "    ### START: This is what you have to change\n",
    "    \n",
    "    # Encode the password as a byte string\n",
    "    password = password.encode('utf-8')\n",
    "    # Dictionary to save each value (non-private) to be sent \n",
    "    cipher_dict = {}\n",
    "    \n",
    "    # Salts should be randomly generated\n",
    "    salt = os.urandom(16)\n",
    "    # Store value of salt\n",
    "    cipher_dict[\"salt\"] = salt\n",
    "    # Get key for encrypting using PBKDF2\n",
    "    kdf = PBKDF2HMAC(\n",
    "        algorithm=hashes.SHA3_256(),\n",
    "        length=16,\n",
    "        salt=salt,\n",
    "        iterations=200000,\n",
    "    )\n",
    "    # Length of 128 bits\n",
    "    key = kdf.derive(password)\n",
    "    \n",
    "    # Nonce should be randomly generated, size same as block (128 bits = 16 bytes)\n",
    "    nonce = os.urandom(16)\n",
    "    # Store value of nonce\n",
    "    cipher_dict[\"nonce\"] = nonce \n",
    "    # Using AES-128 inn CTR mode to encrypt\n",
    "    cipher = Cipher(algorithms.AES(key), modes.CTR(nonce))\n",
    "    encryptor = cipher.encryptor()\n",
    "    ct = encryptor.update(plaintext) + encryptor.finalize()\n",
    "    # Store value of ciphertext\n",
    "    cipher_dict[\"ct\"] = ct \n",
    "    \n",
    "    # Salt to use in PBKDF2 to obtain key to use in HMAC\n",
    "    salt_hmac = os.urandom(16)\n",
    "    # Store value of new salt\n",
    "    cipher_dict[\"salt_hmac\"] = salt_hmac\n",
    "    # Get key for HMAC using PBKDF2\n",
    "    kdf_hmac = PBKDF2HMAC(\n",
    "        algorithm=hashes.SHA3_256(),\n",
    "        length=32,\n",
    "        salt=salt_hmac,\n",
    "        iterations=200000,\n",
    "    )\n",
    "    # Length of 256 bits = 32 bytes, same as used hash output length (recommended)\n",
    "    key_hmac = kdf_hmac.derive(password)\n",
    "    h = hmac.HMAC(key_hmac, hashes.SHA3_256())\n",
    "    h.update(ct)\n",
    "    # Tag of our ciphertext (Using encrypt-then-MAC approach)\n",
    "    signature = h.finalize()\n",
    "    # Store value of tag\n",
    "    cipher_dict[\"signature\"] = signature\n",
    "    \n",
    "    \"\"\"\n",
    "    # Use this code instead if you want to return a string with all values rather than a dict\n",
    "    # Note that decrypt function would need to be slightly adjusted for this change\n",
    "    salt_str = bytes2string(salt)\n",
    "    salt_hmac_str = bytes2string(salt_hmac)\n",
    "    nonce_str = bytes2string(nonce)\n",
    "    ct_str = bytes2string(ct)\n",
    "    signature_str = bytes2string(signature)\n",
    "\n",
    "    return salt_str + salt_hmac_str + nonce_str + ct_str + signature_str\n",
    "    \"\"\"\n",
    "    \n",
    "    # Return all (non-private) values needed to decrypt \n",
    "    # Values are in byte string format. In case of wanting str, would need to convert each value using bytes2string() \n",
    "    return cipher_dict\n",
    "    \n",
    "    ### END: This is what you have to change"
   ]
  },
  {
   "cell_type": "markdown",
   "id": "755c486e-533e-45cc-bfb2-84a3639fd7c2",
   "metadata": {},
   "source": [
    "Now we call the `encrypt` function with a message, and print out the ciphertext it generates."
   ]
  },
  {
   "cell_type": "code",
   "execution_count": 35,
   "id": "90218d89-3d57-4790-9b0c-d42a99b6a0e8",
   "metadata": {},
   "outputs": [
    {
     "name": "stdin",
     "output_type": "stream",
     "text": [
      "Enter password: ········\n",
      "Enter password again: ········\n"
     ]
    },
    {
     "name": "stdout",
     "output_type": "stream",
     "text": [
      "{'salt': b'\\x12\\xc3\\xbc\\xa9\\xf6\\x1a,\\x03\\xdbB^zDF)\\x8d', 'nonce': b'\\xf5\\xfd\\xe2\"\\xfed\\xd1\\xcc\\xa7\\x05WD\\xb8g[u', 'ct': b'P\\x18\\xeb\\xb0\\xf1\\xc5I\\x96\\x8d#(O\\x8d', 'salt_hmac': b'#K\\xea\\xe8\\n\\xa0\\xbe\\x01\\xa3\\x0fm\\xeb\\t\\xd0\\x8a\\x18', 'signature': b'\\xdb\\xa2\\xceG\\xd2V\\xed\\xc6\\x03+<\\x94\\xca3\\x95=\\xbct\\x9b\\xdfI\\xe5\\x14\\xb7\\x03n\\x8e\\xd1<\\x07\\xce\\x89'}\n"
     ]
    }
   ],
   "source": [
    "mymessage = \"Hello, world!\"\n",
    "ciphertext = encrypt(mymessage)\n",
    "print(ciphertext)"
   ]
  },
  {
   "cell_type": "markdown",
   "id": "38ccdb8b-f692-4bea-9da2-4f466be0a931",
   "metadata": {},
   "source": [
    "Implement the main decryption function below.  Your function will take as input the string or dictionary output by `encrypt`, prompt the user to enter the password, and then do all the relevant cryptographic operations."
   ]
  },
  {
   "cell_type": "code",
   "execution_count": 36,
   "id": "7c96fa51-c307-4bd1-bba5-ce53fc4bfc18",
   "metadata": {},
   "outputs": [],
   "source": [
    "def decrypt(ciphertext):\n",
    "    \n",
    "    # prompt the user for the password\n",
    "    password = getpass.getpass(\"Enter the password:\")\n",
    "\n",
    "    ### START: This is what you have to change\n",
    "    \n",
    "    # Encode the password as a byte string\n",
    "    password = password.encode('utf-8')\n",
    "    \n",
    "    # Get the salt used to get key for HMAC\n",
    "    salt_hmac = ciphertext[\"salt_hmac\"]\n",
    "    # Get same key used for HMAC using PBKDF2 with same values as before\n",
    "    kdf_hmac = PBKDF2HMAC(\n",
    "        algorithm=hashes.SHA3_256(),\n",
    "        length=32,\n",
    "        salt=salt_hmac,\n",
    "        iterations=200000,\n",
    "    )\n",
    "    key_hmac = kdf_hmac.derive(password)\n",
    "    \n",
    "    h = hmac.HMAC(key_hmac, hashes.SHA3_256())\n",
    "    h.update(ciphertext[\"ct\"])\n",
    "    h_copy = h.copy() # get a copy of `h' to be reused\n",
    "    # Verify tag. Important doing this step before decrypting.\n",
    "    h.verify(ciphertext[\"signature\"])\n",
    "    \n",
    "    # Get the salt used to get key for encrypting\n",
    "    salt = ciphertext[\"salt\"]\n",
    "    # Get key used for encrypting using PBKDF2\n",
    "    kdf = PBKDF2HMAC(\n",
    "        algorithm=hashes.SHA3_256(),\n",
    "        length=16,\n",
    "        salt=salt,\n",
    "        iterations=200000,\n",
    "    )\n",
    "    key = kdf.derive(password)\n",
    "    \n",
    "    # Get the nonce used for encrypting\n",
    "    nonce = ciphertext[\"nonce\"]\n",
    "    # Using same algorithm as for encrypt, AES-128 on CTR mode\n",
    "    cipher = Cipher(algorithms.AES(key), modes.CTR(nonce))\n",
    "    decryptor = cipher.decryptor()\n",
    "    # Decrypt ciphertext\n",
    "    plaintext = decryptor.update(ciphertext[\"ct\"]) + decryptor.finalize()\n",
    "    \n",
    "    ### END: This is what you have to change\n",
    "\n",
    "    # decode the byte string back to a string\n",
    "    return plaintext.decode('utf-8')"
   ]
  },
  {
   "cell_type": "markdown",
   "id": "ef3bd698-cecd-489e-a19d-73e964bb598d",
   "metadata": {},
   "source": [
    "Now let's try decrypting the ciphertext you encrypted above by entering the same password as you used for encryption."
   ]
  },
  {
   "cell_type": "code",
   "execution_count": 37,
   "id": "3af449da-3d2e-48cf-a0e7-8ffcd4a3434f",
   "metadata": {},
   "outputs": [
    {
     "name": "stdin",
     "output_type": "stream",
     "text": [
      "Enter the password: ········\n"
     ]
    },
    {
     "name": "stdout",
     "output_type": "stream",
     "text": [
      "Hello, world!\n"
     ]
    }
   ],
   "source": [
    "mymessagedecrypted = decrypt(ciphertext)\n",
    "print(mymessagedecrypted)\n",
    "assert mymessagedecrypted == mymessage"
   ]
  },
  {
   "cell_type": "markdown",
   "id": "b677baa9-72fe-4b4d-9253-5b920bfc27ee",
   "metadata": {},
   "source": [
    "Try again but this time see what happens if you use a different password to decrypt. Your function should fail."
   ]
  },
  {
   "cell_type": "code",
   "execution_count": 38,
   "id": "5005c99d-00bf-4746-8e5c-f075f756aea2",
   "metadata": {},
   "outputs": [
    {
     "name": "stdin",
     "output_type": "stream",
     "text": [
      "Enter the password: ········\n"
     ]
    },
    {
     "ename": "InvalidSignature",
     "evalue": "Signature did not match digest.",
     "output_type": "error",
     "traceback": [
      "\u001b[0;31m---------------------------------------------------------------------------\u001b[0m",
      "\u001b[0;31mInvalidSignature\u001b[0m                          Traceback (most recent call last)",
      "Input \u001b[0;32mIn [38]\u001b[0m, in \u001b[0;36m<cell line: 1>\u001b[0;34m()\u001b[0m\n\u001b[0;32m----> 1\u001b[0m mymessagedecrypted \u001b[38;5;241m=\u001b[39m \u001b[43mdecrypt\u001b[49m\u001b[43m(\u001b[49m\u001b[43mciphertext\u001b[49m\u001b[43m)\u001b[49m\n\u001b[1;32m      2\u001b[0m \u001b[38;5;28mprint\u001b[39m(mymessagedecrypted)\n\u001b[1;32m      3\u001b[0m \u001b[38;5;28;01massert\u001b[39;00m mymessagedecrypted \u001b[38;5;241m==\u001b[39m mymessage\n",
      "Input \u001b[0;32mIn [36]\u001b[0m, in \u001b[0;36mdecrypt\u001b[0;34m(ciphertext)\u001b[0m\n\u001b[1;32m     24\u001b[0m h_copy \u001b[38;5;241m=\u001b[39m h\u001b[38;5;241m.\u001b[39mcopy() \u001b[38;5;66;03m# get a copy of `h' to be reused\u001b[39;00m\n\u001b[1;32m     25\u001b[0m \u001b[38;5;66;03m# Verify tag. Important doing this step before decrypting.\u001b[39;00m\n\u001b[0;32m---> 26\u001b[0m \u001b[43mh\u001b[49m\u001b[38;5;241;43m.\u001b[39;49m\u001b[43mverify\u001b[49m\u001b[43m(\u001b[49m\u001b[43mciphertext\u001b[49m\u001b[43m[\u001b[49m\u001b[38;5;124;43m\"\u001b[39;49m\u001b[38;5;124;43msignature\u001b[39;49m\u001b[38;5;124;43m\"\u001b[39;49m\u001b[43m]\u001b[49m\u001b[43m)\u001b[49m\n\u001b[1;32m     28\u001b[0m \u001b[38;5;66;03m# Get the salt used to get key for encrypting\u001b[39;00m\n\u001b[1;32m     29\u001b[0m salt \u001b[38;5;241m=\u001b[39m ciphertext[\u001b[38;5;124m\"\u001b[39m\u001b[38;5;124msalt\u001b[39m\u001b[38;5;124m\"\u001b[39m]\n",
      "File \u001b[0;32m/srv/jupyter_python3-extra/lib/python3.10/site-packages/cryptography/hazmat/primitives/hmac.py:72\u001b[0m, in \u001b[0;36mHMAC.verify\u001b[0;34m(self, signature)\u001b[0m\n\u001b[1;32m     69\u001b[0m     \u001b[38;5;28;01mraise\u001b[39;00m AlreadyFinalized(\u001b[38;5;124m\"\u001b[39m\u001b[38;5;124mContext was already finalized.\u001b[39m\u001b[38;5;124m\"\u001b[39m)\n\u001b[1;32m     71\u001b[0m ctx, \u001b[38;5;28mself\u001b[39m\u001b[38;5;241m.\u001b[39m_ctx \u001b[38;5;241m=\u001b[39m \u001b[38;5;28mself\u001b[39m\u001b[38;5;241m.\u001b[39m_ctx, \u001b[38;5;28;01mNone\u001b[39;00m\n\u001b[0;32m---> 72\u001b[0m \u001b[43mctx\u001b[49m\u001b[38;5;241;43m.\u001b[39;49m\u001b[43mverify\u001b[49m\u001b[43m(\u001b[49m\u001b[43msignature\u001b[49m\u001b[43m)\u001b[49m\n",
      "File \u001b[0;32m/srv/jupyter_python3-extra/lib/python3.10/site-packages/cryptography/hazmat/backends/openssl/hmac.py:85\u001b[0m, in \u001b[0;36m_HMACContext.verify\u001b[0;34m(self, signature)\u001b[0m\n\u001b[1;32m     83\u001b[0m digest \u001b[38;5;241m=\u001b[39m \u001b[38;5;28mself\u001b[39m\u001b[38;5;241m.\u001b[39mfinalize()\n\u001b[1;32m     84\u001b[0m \u001b[38;5;28;01mif\u001b[39;00m \u001b[38;5;129;01mnot\u001b[39;00m constant_time\u001b[38;5;241m.\u001b[39mbytes_eq(digest, signature):\n\u001b[0;32m---> 85\u001b[0m     \u001b[38;5;28;01mraise\u001b[39;00m InvalidSignature(\u001b[38;5;124m\"\u001b[39m\u001b[38;5;124mSignature did not match digest.\u001b[39m\u001b[38;5;124m\"\u001b[39m)\n",
      "\u001b[0;31mInvalidSignature\u001b[0m: Signature did not match digest."
     ]
    }
   ],
   "source": [
    "mymessagedecrypted = decrypt(ciphertext)\n",
    "print(mymessagedecrypted)\n",
    "assert mymessagedecrypted == mymessage"
   ]
  },
  {
   "cell_type": "code",
   "execution_count": null,
   "id": "4e7d85de-d0f4-4270-a44b-5a56f7dc555f",
   "metadata": {},
   "outputs": [],
   "source": []
  }
 ],
 "metadata": {
  "kernelspec": {
   "display_name": "Python 3",
   "language": "python",
   "name": "python3"
  },
  "language_info": {
   "codemirror_mode": {
    "name": "ipython",
    "version": 3
   },
   "file_extension": ".py",
   "mimetype": "text/x-python",
   "name": "python",
   "nbconvert_exporter": "python",
   "pygments_lexer": "ipython3",
   "version": "3.10.6"
  }
 },
 "nbformat": 4,
 "nbformat_minor": 5
}
